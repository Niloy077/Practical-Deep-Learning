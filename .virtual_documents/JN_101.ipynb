#%matplotlib inline


pwd

















a = 1
b = a + 1
c = b + a + 1
d = c + b + a + 1
a, b, c ,d 

import matplotlib.pyplot as plt

plt.plot([a,b,c,d])
plt.show()

#%debug


%timeit [i+1 for i in range(100)]


!pip install -Uqq fastai



